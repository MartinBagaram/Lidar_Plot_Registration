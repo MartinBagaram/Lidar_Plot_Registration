{
 "cells": [
  {
   "cell_type": "code",
   "execution_count": 1,
   "metadata": {},
   "outputs": [],
   "source": [
    "import geopandas as gpd\n",
    "import os\n",
    "data_path = \"./\"\n",
    "processed_folder = \"../../../processed/\""
   ]
  },
  {
   "cell_type": "code",
   "execution_count": 2,
   "metadata": {},
   "outputs": [],
   "source": [
    "wind_river_gdf = gpd.read_file(os.path.join(data_path, \"Tree_locations3.shp\"))"
   ]
  },
  {
   "cell_type": "code",
   "execution_count": 3,
   "metadata": {},
   "outputs": [
    {
     "data": {
      "text/plain": [
       "Index(['DATACODE', 'PLOT', 'TAG', 'YEAR', 'DBH', 'SPECIES', 'STATUS', 'X', 'Y',\n",
       "       'Z', 'DISTANCE', 'Easting', 'Northing', 'F14', 'geometry'],\n",
       "      dtype='object')"
      ]
     },
     "execution_count": 3,
     "metadata": {},
     "output_type": "execute_result"
    }
   ],
   "source": [
    "wind_river_gdf.columns"
   ]
  },
  {
   "cell_type": "code",
   "execution_count": 10,
   "metadata": {},
   "outputs": [
    {
     "data": {
      "text/html": [
       "<div>\n",
       "<style scoped>\n",
       "    .dataframe tbody tr th:only-of-type {\n",
       "        vertical-align: middle;\n",
       "    }\n",
       "\n",
       "    .dataframe tbody tr th {\n",
       "        vertical-align: top;\n",
       "    }\n",
       "\n",
       "    .dataframe thead th {\n",
       "        text-align: right;\n",
       "    }\n",
       "</style>\n",
       "<table border=\"1\" class=\"dataframe\">\n",
       "  <thead>\n",
       "    <tr style=\"text-align: right;\">\n",
       "      <th></th>\n",
       "      <th>DATACODE</th>\n",
       "      <th>PLOT</th>\n",
       "      <th>TAG</th>\n",
       "      <th>YEAR</th>\n",
       "      <th>DBH</th>\n",
       "      <th>SPECIES</th>\n",
       "      <th>STATUS</th>\n",
       "      <th>X</th>\n",
       "      <th>Y</th>\n",
       "      <th>Z</th>\n",
       "      <th>DISTANCE</th>\n",
       "      <th>Easting</th>\n",
       "      <th>Northing</th>\n",
       "      <th>F14</th>\n",
       "      <th>geometry</th>\n",
       "    </tr>\n",
       "  </thead>\n",
       "  <tbody>\n",
       "    <tr>\n",
       "      <th>0</th>\n",
       "      <td>WRFS4ha</td>\n",
       "      <td>1.0</td>\n",
       "      <td>1.0</td>\n",
       "      <td>1994.0</td>\n",
       "      <td>23.3</td>\n",
       "      <td>TSHE</td>\n",
       "      <td>1.0</td>\n",
       "      <td>116.716</td>\n",
       "      <td>100.662</td>\n",
       "      <td>-0.433</td>\n",
       "      <td>11.244090</td>\n",
       "      <td>581426.716</td>\n",
       "      <td>5074521.662</td>\n",
       "      <td>0.0</td>\n",
       "      <td>POINT (581426.716 5074521.662)</td>\n",
       "    </tr>\n",
       "    <tr>\n",
       "      <th>1</th>\n",
       "      <td>WRFS4ha</td>\n",
       "      <td>1.0</td>\n",
       "      <td>2.0</td>\n",
       "      <td>1994.0</td>\n",
       "      <td>62.7</td>\n",
       "      <td>ABGR</td>\n",
       "      <td>1.0</td>\n",
       "      <td>105.452</td>\n",
       "      <td>102.828</td>\n",
       "      <td>-0.151</td>\n",
       "      <td>0.635548</td>\n",
       "      <td>581415.452</td>\n",
       "      <td>5074523.828</td>\n",
       "      <td>0.0</td>\n",
       "      <td>POINT (581415.452 5074523.828)</td>\n",
       "    </tr>\n",
       "    <tr>\n",
       "      <th>2</th>\n",
       "      <td>WRFS4ha</td>\n",
       "      <td>1.0</td>\n",
       "      <td>3.0</td>\n",
       "      <td>1994.0</td>\n",
       "      <td>112.6</td>\n",
       "      <td>TSHE</td>\n",
       "      <td>1.0</td>\n",
       "      <td>101.407</td>\n",
       "      <td>104.371</td>\n",
       "      <td>0.067</td>\n",
       "      <td>4.508189</td>\n",
       "      <td>581411.407</td>\n",
       "      <td>5074525.371</td>\n",
       "      <td>0.0</td>\n",
       "      <td>POINT (581411.407 5074525.371)</td>\n",
       "    </tr>\n",
       "  </tbody>\n",
       "</table>\n",
       "</div>"
      ],
      "text/plain": [
       "  DATACODE  PLOT  TAG    YEAR    DBH SPECIES  STATUS        X        Y      Z  \\\n",
       "0  WRFS4ha   1.0  1.0  1994.0   23.3    TSHE     1.0  116.716  100.662 -0.433   \n",
       "1  WRFS4ha   1.0  2.0  1994.0   62.7    ABGR     1.0  105.452  102.828 -0.151   \n",
       "2  WRFS4ha   1.0  3.0  1994.0  112.6    TSHE     1.0  101.407  104.371  0.067   \n",
       "\n",
       "    DISTANCE     Easting     Northing  F14                        geometry  \n",
       "0  11.244090  581426.716  5074521.662  0.0  POINT (581426.716 5074521.662)  \n",
       "1   0.635548  581415.452  5074523.828  0.0  POINT (581415.452 5074523.828)  \n",
       "2   4.508189  581411.407  5074525.371  0.0  POINT (581411.407 5074525.371)  "
      ]
     },
     "execution_count": 10,
     "metadata": {},
     "output_type": "execute_result"
    }
   ],
   "source": [
    "wind_river_gdf.head(3)"
   ]
  },
  {
   "cell_type": "markdown",
   "metadata": {},
   "source": [
    "### Subset the geopandas file and save it back into a csv file in the processed folder"
   ]
  },
  {
   "cell_type": "code",
   "execution_count": 6,
   "metadata": {},
   "outputs": [],
   "source": [
    "win_river_subset = wind_river_gdf[['Easting', 'Northing', 'SPECIES', 'DBH',]]"
   ]
  },
  {
   "cell_type": "code",
   "execution_count": 7,
   "metadata": {},
   "outputs": [],
   "source": [
    "win_river_subset.columns = ['tree_x', 'tree_y', 'species', 'dbh']"
   ]
  },
  {
   "cell_type": "code",
   "execution_count": 8,
   "metadata": {},
   "outputs": [
    {
     "data": {
      "text/html": [
       "<div>\n",
       "<style scoped>\n",
       "    .dataframe tbody tr th:only-of-type {\n",
       "        vertical-align: middle;\n",
       "    }\n",
       "\n",
       "    .dataframe tbody tr th {\n",
       "        vertical-align: top;\n",
       "    }\n",
       "\n",
       "    .dataframe thead th {\n",
       "        text-align: right;\n",
       "    }\n",
       "</style>\n",
       "<table border=\"1\" class=\"dataframe\">\n",
       "  <thead>\n",
       "    <tr style=\"text-align: right;\">\n",
       "      <th></th>\n",
       "      <th>tree_x</th>\n",
       "      <th>tree_y</th>\n",
       "      <th>species</th>\n",
       "      <th>dbh</th>\n",
       "    </tr>\n",
       "  </thead>\n",
       "  <tbody>\n",
       "    <tr>\n",
       "      <th>984</th>\n",
       "      <td>581445.572</td>\n",
       "      <td>5074432.085</td>\n",
       "      <td>TSHE</td>\n",
       "      <td>17.5</td>\n",
       "    </tr>\n",
       "    <tr>\n",
       "      <th>703</th>\n",
       "      <td>581469.845</td>\n",
       "      <td>5074465.384</td>\n",
       "      <td>TSHE</td>\n",
       "      <td>5.0</td>\n",
       "    </tr>\n",
       "    <tr>\n",
       "      <th>1402</th>\n",
       "      <td>581347.458</td>\n",
       "      <td>5074517.097</td>\n",
       "      <td>TSHE</td>\n",
       "      <td>12.5</td>\n",
       "    </tr>\n",
       "    <tr>\n",
       "      <th>76</th>\n",
       "      <td>581444.728</td>\n",
       "      <td>5074557.292</td>\n",
       "      <td>TSHE</td>\n",
       "      <td>70.0</td>\n",
       "    </tr>\n",
       "  </tbody>\n",
       "</table>\n",
       "</div>"
      ],
      "text/plain": [
       "          tree_x       tree_y species   dbh\n",
       "984   581445.572  5074432.085    TSHE  17.5\n",
       "703   581469.845  5074465.384    TSHE   5.0\n",
       "1402  581347.458  5074517.097    TSHE  12.5\n",
       "76    581444.728  5074557.292    TSHE  70.0"
      ]
     },
     "execution_count": 8,
     "metadata": {},
     "output_type": "execute_result"
    }
   ],
   "source": [
    "win_river_subset.sample(4)"
   ]
  },
  {
   "cell_type": "code",
   "execution_count": 9,
   "metadata": {},
   "outputs": [],
   "source": [
    "win_river_subset.to_csv(os.path.join(processed_folder, \"wind_river_processed.csv\"), index=False)"
   ]
  },
  {
   "cell_type": "code",
   "execution_count": null,
   "metadata": {},
   "outputs": [],
   "source": []
  }
 ],
 "metadata": {
  "kernelspec": {
   "display_name": "Python 3",
   "language": "python",
   "name": "python3"
  },
  "language_info": {
   "codemirror_mode": {
    "name": "ipython",
    "version": 3
   },
   "file_extension": ".py",
   "mimetype": "text/x-python",
   "name": "python",
   "nbconvert_exporter": "python",
   "pygments_lexer": "ipython3",
   "version": "3.6.6"
  }
 },
 "nbformat": 4,
 "nbformat_minor": 2
}
