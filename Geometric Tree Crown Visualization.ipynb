{
 "cells": [
  {
   "cell_type": "markdown",
   "metadata": {},
   "source": [
    "## Modeling an idealized tree crown surface\n",
    "David Diaz"
   ]
  },
  {
   "cell_type": "markdown",
   "metadata": {},
   "source": [
    "A flexible geometric form, a generalized ellipsoid can be used to approximate the three-dimensional crown surface of a tree. A two-dimensional ellipsoid for modeling crowns was originally proposed by Horn (1971):\n",
    "\n",
    "$\\frac{x^E}{a^E}+\\frac{y^E}{b^E}=1$\n",
    "\n",
    "A three-dimensional variant has been attributed to Pollock (1996), although a similar model was also described by Koop (1989). The figure below was produced by Sheng et al. (2001) and refers to this form as the Pollock model.\n",
    "\n",
    "<img src='./images/Sheng et al 2001_Figure1.PNG' width='600' align='center'>"
   ]
  },
  {
   "cell_type": "code",
   "execution_count": 1,
   "metadata": {},
   "outputs": [],
   "source": [
    "import numpy as np\n",
    "import ipyvolume.pylab as p3\n",
    "from ipywidgets import (FloatSlider, IntSlider, \n",
    "                        VBox, interactive_output, \n",
    "                        Layout, Label)\n",
    "from IPython.display import display"
   ]
  },
  {
   "cell_type": "markdown",
   "metadata": {},
   "source": [
    "## A function for calculating crown surface points and visualizing them"
   ]
  },
  {
   "cell_type": "code",
   "execution_count": 6,
   "metadata": {},
   "outputs": [],
   "source": [
    "def make_crown(crown_ratio, cr, cc):\n",
    "    top_ht = 100\n",
    "    ch = top_ht * crown_ratio\n",
    "    bh = top_ht - ch\n",
    "    xt, yt, zt = 0, 0, top_ht\n",
    "    \n",
    "    r = np.linspace(-cr,cr,25) # radii to generate surface valeus for\n",
    "    theta = np.linspace(0,2*np.pi,32) # angles\n",
    "    radius_matrix, theta_matrix = np.meshgrid(r,theta) # points within the crown\n",
    "    x = radius_matrix * np.cos(theta_matrix) # x points within the crown\n",
    "    y = radius_matrix * np.sin(theta_matrix) # y points within the crown\n",
    "    \n",
    "    # generate surface points of the crown\n",
    "    z = ((1-(((x-xt)**2 + (y-yt)**2)**(cc/2))/(cr**cc))*(ch**cc) - ch + zt)**(1/cc) + bh\n",
    "    \n",
    "    p3.clear() # there seems to be a failure to clear the previous values from display\n",
    "    \n",
    "    # by default, ipyvolume shows Y-axis as up-down, and this can't apparently be modified\n",
    "    # so switch out y and z in the plotting call\n",
    "    p3.plot_wireframe(x,z,y, color='green') \n",
    "    p3.zlim(-50,50)\n",
    "    p3.xlim(-50,50)\n",
    "    p3.ylim(0,100)\n",
    "    p3.style.use('nobox')\n",
    "    return p3.show()"
   ]
  },
  {
   "cell_type": "markdown",
   "metadata": {},
   "source": [
    "## Create some user interface widgets"
   ]
  },
  {
   "cell_type": "code",
   "execution_count": 9,
   "metadata": {},
   "outputs": [],
   "source": [
    "ratio = FloatSlider(min=0.0,max=1.0,step=0.01,value=0.75,\n",
    "                    description='Crown Ratio:',\n",
    "                    continuous_update=False,\n",
    "                    layout=Layout(width='50%'))\n",
    "curvature = FloatSlider(min=0,max=5,step=0.01, value=1.5,\n",
    "                        description='Curvature:',\n",
    "                        continuous_update=False,\n",
    "                        layout=Layout(width='50%'))\n",
    "radius = IntSlider(min=0,max=50,step=1,value=15,\n",
    "                     description='Crown Radius:',\n",
    "                     continuous_update=False,\n",
    "                     layout=Layout(width='50%'),\n",
    "                     style={'description_width': 'initial'})\n",
    "\n",
    "# lay out the widgets\n",
    "title = Label('Tree Crown Modeler')\n",
    "ui = VBox([title,ratio,radius,curvature])"
   ]
  },
  {
   "cell_type": "markdown",
   "metadata": {},
   "source": [
    "## Connect the widgets to our crown function"
   ]
  },
  {
   "cell_type": "code",
   "execution_count": 10,
   "metadata": {
    "scrolled": false
   },
   "outputs": [],
   "source": [
    "output = interactive_output(make_crown,\n",
    "                            {'crown_ratio': ratio,\n",
    "                             'cr': radius,\n",
    "                             'cc': curvature})"
   ]
  },
  {
   "cell_type": "markdown",
   "metadata": {},
   "source": [
    "## And display it!"
   ]
  },
  {
   "cell_type": "code",
   "execution_count": 11,
   "metadata": {},
   "outputs": [
    {
     "data": {
      "application/vnd.jupyter.widget-view+json": {
       "model_id": "523c7e41f5e7455f9e8b14883bdb4221",
       "version_major": 2,
       "version_minor": 0
      },
      "text/plain": [
       "VBox(children=(Label(value='Tree Crown Modeler'), FloatSlider(value=0.75, continuous_update=False, description…"
      ]
     },
     "metadata": {},
     "output_type": "display_data"
    },
    {
     "data": {
      "application/vnd.jupyter.widget-view+json": {
       "model_id": "78b4bf11dadf4823ac3a810eebb1a960",
       "version_major": 2,
       "version_minor": 0
      },
      "text/plain": [
       "Output(outputs=({'output_type': 'display_data', 'data': {'text/plain': 'VBox(children=(Figure(camera_center=[0…"
      ]
     },
     "metadata": {},
     "output_type": "display_data"
    }
   ],
   "source": [
    "display(ui, output)"
   ]
  }
 ],
 "metadata": {
  "kernelspec": {
   "display_name": "Python [conda env:ipyvolume]",
   "language": "python",
   "name": "conda-env-ipyvolume-py"
  },
  "language_info": {
   "codemirror_mode": {
    "name": "ipython",
    "version": 3
   },
   "file_extension": ".py",
   "mimetype": "text/x-python",
   "name": "python",
   "nbconvert_exporter": "python",
   "pygments_lexer": "ipython3",
   "version": "3.6.5"
  }
 },
 "nbformat": 4,
 "nbformat_minor": 2
}
