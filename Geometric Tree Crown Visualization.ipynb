{
 "cells": [
  {
   "cell_type": "markdown",
   "metadata": {},
   "source": [
    "# Modeling an idealized tree crown surface\n",
    "David Diaz"
   ]
  },
  {
   "cell_type": "markdown",
   "metadata": {},
   "source": [
    "A flexible geometric form, a generalized ellipsoid can be used to approximate the three-dimensional crown surface of a tree. A two-dimensional ellipsoid for modeling crowns was originally proposed by Horn (1971):\n",
    "\n",
    "$\\frac{x^E}{a^E}+\\frac{y^E}{b^E}=1$\n",
    "\n",
    "A three-dimensional variant has been attributed to Pollock (1996), although a similar model was also described by Koop (1989). The figure below was produced by Sheng et al. (2001) and refers to this form as the Pollock model.\n",
    "\n",
    "<img src='./images/Sheng et al 2001_Figure1.PNG' width='600' align='center'>"
   ]
  },
  {
   "cell_type": "markdown",
   "metadata": {},
   "source": [
    "## Objective\n",
    "In this notebook, we will implement an interactive 3D visualization of this geometric crown form, allowing the user to adjust the parameters and see how the crown shape evolves.\n",
    "\n",
    "The interactions are enabled through the use of slider widgets, which show the user the values being selected for each parameter, and which then update the 3D visualization accordingly. These widgets and the 3D visualization are intended to provide a more intuitive sense of how the parameters affect the 3D model. \n",
    "\n",
    "Here is a hand-drawn mockup of the user interface we'll try to create.\n",
    "<img src='./images/mockup_interactive_crown_modeler.png' width='300' align='center'>"
   ]
  },
  {
   "cell_type": "code",
   "execution_count": 2,
   "metadata": {},
   "outputs": [],
   "source": [
    "import numpy as np\n",
    "#from ipyvolume import pylab as p3\n",
    "from ipywidgets import (FloatSlider, IntSlider, \n",
    "                        VBox, interactive_output, \n",
    "                        Layout, Label)\n",
    "from IPython.display import display"
   ]
  },
  {
   "cell_type": "markdown",
   "metadata": {},
   "source": [
    "### Create a function to generate a crown surface and visualize it"
   ]
  },
  {
   "cell_type": "code",
   "execution_count": 3,
   "metadata": {},
   "outputs": [],
   "source": [
    "def make_crown(crown_ratio, crown_radius, cc):\n",
    "    top_ht = 100\n",
    "    cr = crown_radius * top_ht\n",
    "    ch = top_ht * crown_ratio\n",
    "    bh = top_ht - ch\n",
    "    xt, yt, zt = 0, 0, top_ht\n",
    "    \n",
    "    r = np.linspace(-cr,cr,25) # radii to generate surface valeus for\n",
    "    theta = np.linspace(0,2*np.pi,32) # angles\n",
    "    radius_matrix, theta_matrix = np.meshgrid(r,theta) # points within the crown\n",
    "    x = radius_matrix * np.cos(theta_matrix) # x points within the crown\n",
    "    y = radius_matrix * np.sin(theta_matrix) # y points within the crown\n",
    "    \n",
    "    # generate surface points of the crown using Sheng et al. (2001) equation\n",
    "    z = ((1-(((x-xt)**2 + (y-yt)**2)**(cc/2))/(cr**cc))*(ch**cc) - ch + zt)**(1/cc) + bh\n",
    "    \n",
    "    p3.clear() # there seems to be a failure to clear the previous values from display\n",
    "    \n",
    "    # by default, ipyvolume shows Y-axis as up-down, and this can't apparently be modified\n",
    "    # so switch out y and z in the plotting call\n",
    "    p3.plot_wireframe(x,z,y, color='green') \n",
    "    p3.xlim(-top_ht,top_ht)\n",
    "    p3.zlim(-top_ht,top_ht)\n",
    "    p3.style.use('nobox')\n",
    "    return p3.show()"
   ]
  },
  {
   "cell_type": "markdown",
   "metadata": {},
   "source": [
    "### Create some user interface widgets"
   ]
  },
  {
   "cell_type": "code",
   "execution_count": 4,
   "metadata": {},
   "outputs": [],
   "source": [
    "ratio = FloatSlider(min=0.0,max=1.0,step=0.01,value=0.75,\n",
    "                    description='Crown Ratio:',\n",
    "                    continuous_update=False,\n",
    "                    layout=Layout(width='50%'))\n",
    "curvature = FloatSlider(min=0.01,max=5,step=0.01, value=1.5,\n",
    "                        description='Curvature:',\n",
    "                        continuous_update=False,\n",
    "                        layout=Layout(width='50%'))\n",
    "radius = FloatSlider(min=0.01,max=1,step=.01,value=0.35,\n",
    "                     description='Crown Radius:',\n",
    "                     continuous_update=False,\n",
    "                     layout=Layout(width='50%'),\n",
    "                     style={'description_width': 'initial'})\n",
    "\n",
    "# lay out the widgets\n",
    "title = Label('Tree Crown Modeler')\n",
    "ui = VBox([title,ratio,radius,curvature])"
   ]
  },
  {
   "cell_type": "markdown",
   "metadata": {},
   "source": [
    "### Connect the widgets to our crown function"
   ]
  },
  {
   "cell_type": "code",
   "execution_count": 5,
   "metadata": {
    "scrolled": false
   },
   "outputs": [],
   "source": [
    "output = interactive_output(make_crown,\n",
    "                            {'crown_ratio': ratio,\n",
    "                             'crown_radius': radius,\n",
    "                             'cc': curvature})"
   ]
  },
  {
   "cell_type": "markdown",
   "metadata": {},
   "source": [
    "### And display it!"
   ]
  },
  {
   "cell_type": "code",
   "execution_count": 6,
   "metadata": {},
   "outputs": [
    {
     "data": {
      "application/vnd.jupyter.widget-view+json": {
       "model_id": "5c50b4dc396d4236b33ee541f7e13fc9",
       "version_major": 2,
       "version_minor": 0
      },
      "text/html": [
       "<p>Failed to display Jupyter Widget of type <code>VBox</code>.</p>\n",
       "<p>\n",
       "  If you're reading this message in the Jupyter Notebook or JupyterLab Notebook, it may mean\n",
       "  that the widgets JavaScript is still loading. If this message persists, it\n",
       "  likely means that the widgets JavaScript library is either not installed or\n",
       "  not enabled. See the <a href=\"https://ipywidgets.readthedocs.io/en/stable/user_install.html\">Jupyter\n",
       "  Widgets Documentation</a> for setup instructions.\n",
       "</p>\n",
       "<p>\n",
       "  If you're reading this message in another frontend (for example, a static\n",
       "  rendering on GitHub or <a href=\"https://nbviewer.jupyter.org/\">NBViewer</a>),\n",
       "  it may mean that your frontend doesn't currently support widgets.\n",
       "</p>\n"
      ],
      "text/plain": [
       "VBox(children=(Label(value='Tree Crown Modeler'), FloatSlider(value=0.75, continuous_update=False, description='Crown Ratio:', layout=Layout(width='50%'), max=1.0, step=0.01), FloatSlider(value=0.35, continuous_update=False, description='Crown Radius:', layout=Layout(width='50%'), max=1.0, min=0.01, step=0.01, style=SliderStyle(description_width='initial')), FloatSlider(value=1.5, continuous_update=False, description='Curvature:', layout=Layout(width='50%'), max=5.0, min=0.01, step=0.01)))"
      ]
     },
     "metadata": {},
     "output_type": "display_data"
    },
    {
     "data": {
      "application/vnd.jupyter.widget-view+json": {
       "model_id": "ae445ee13b414448935adb95f00f8fbc",
       "version_major": 2,
       "version_minor": 0
      },
      "text/html": [
       "<p>Failed to display Jupyter Widget of type <code>Output</code>.</p>\n",
       "<p>\n",
       "  If you're reading this message in the Jupyter Notebook or JupyterLab Notebook, it may mean\n",
       "  that the widgets JavaScript is still loading. If this message persists, it\n",
       "  likely means that the widgets JavaScript library is either not installed or\n",
       "  not enabled. See the <a href=\"https://ipywidgets.readthedocs.io/en/stable/user_install.html\">Jupyter\n",
       "  Widgets Documentation</a> for setup instructions.\n",
       "</p>\n",
       "<p>\n",
       "  If you're reading this message in another frontend (for example, a static\n",
       "  rendering on GitHub or <a href=\"https://nbviewer.jupyter.org/\">NBViewer</a>),\n",
       "  it may mean that your frontend doesn't currently support widgets.\n",
       "</p>\n"
      ],
      "text/plain": [
       "Output(outputs=({'output_type': 'error', 'ename': 'NameError', 'evalue': \"name 'p3' is not defined\", 'traceback': ['\\x1b[1;31m---------------------------------------------------------------------------\\x1b[0m', '\\x1b[1;31mNameError\\x1b[0m                                 Traceback (most recent call last)', '\\x1b[1;32m~\\\\AppData\\\\Local\\\\Continuum\\\\anaconda3\\\\lib\\\\site-packages\\\\ipywidgets\\\\widgets\\\\interaction.py\\x1b[0m in \\x1b[0;36mobserver\\x1b[1;34m(change)\\x1b[0m\\n\\x1b[0;32m     72\\x1b[0m         \\x1b[1;32mwith\\x1b[0m \\x1b[0mout\\x1b[0m\\x1b[1;33m:\\x1b[0m\\x1b[1;33m\\x1b[0m\\x1b[0m\\n\\x1b[0;32m     73\\x1b[0m             \\x1b[0mclear_output\\x1b[0m\\x1b[1;33m(\\x1b[0m\\x1b[0mwait\\x1b[0m\\x1b[1;33m=\\x1b[0m\\x1b[1;32mTrue\\x1b[0m\\x1b[1;33m)\\x1b[0m\\x1b[1;33m\\x1b[0m\\x1b[0m\\n\\x1b[1;32m---> 74\\x1b[1;33m             \\x1b[0mf\\x1b[0m\\x1b[1;33m(\\x1b[0m\\x1b[1;33m**\\x1b[0m\\x1b[0mkwargs\\x1b[0m\\x1b[1;33m)\\x1b[0m\\x1b[1;33m\\x1b[0m\\x1b[0m\\n\\x1b[0m\\x1b[0;32m     75\\x1b[0m             \\x1b[0mshow_inline_matplotlib_plots\\x1b[0m\\x1b[1;33m(\\x1b[0m\\x1b[1;33m)\\x1b[0m\\x1b[1;33m\\x1b[0m\\x1b[0m\\n\\x1b[0;32m     76\\x1b[0m     \\x1b[1;32mfor\\x1b[0m \\x1b[0mk\\x1b[0m\\x1b[1;33m,\\x1b[0m\\x1b[0mw\\x1b[0m \\x1b[1;32min\\x1b[0m \\x1b[0mcontrols\\x1b[0m\\x1b[1;33m.\\x1b[0m\\x1b[0mitems\\x1b[0m\\x1b[1;33m(\\x1b[0m\\x1b[1;33m)\\x1b[0m\\x1b[1;33m:\\x1b[0m\\x1b[1;33m\\x1b[0m\\x1b[0m\\n', \"\\x1b[1;32m<ipython-input-3-5e2ca7648a6c>\\x1b[0m in \\x1b[0;36mmake_crown\\x1b[1;34m(crown_ratio, crown_radius, cc)\\x1b[0m\\n\\x1b[0;32m     15\\x1b[0m     \\x1b[0mz\\x1b[0m \\x1b[1;33m=\\x1b[0m \\x1b[1;33m(\\x1b[0m\\x1b[1;33m(\\x1b[0m\\x1b[1;36m1\\x1b[0m\\x1b[1;33m-\\x1b[0m\\x1b[1;33m(\\x1b[0m\\x1b[1;33m(\\x1b[0m\\x1b[1;33m(\\x1b[0m\\x1b[0mx\\x1b[0m\\x1b[1;33m-\\x1b[0m\\x1b[0mxt\\x1b[0m\\x1b[1;33m)\\x1b[0m\\x1b[1;33m**\\x1b[0m\\x1b[1;36m2\\x1b[0m \\x1b[1;33m+\\x1b[0m \\x1b[1;33m(\\x1b[0m\\x1b[0my\\x1b[0m\\x1b[1;33m-\\x1b[0m\\x1b[0myt\\x1b[0m\\x1b[1;33m)\\x1b[0m\\x1b[1;33m**\\x1b[0m\\x1b[1;36m2\\x1b[0m\\x1b[1;33m)\\x1b[0m\\x1b[1;33m**\\x1b[0m\\x1b[1;33m(\\x1b[0m\\x1b[0mcc\\x1b[0m\\x1b[1;33m/\\x1b[0m\\x1b[1;36m2\\x1b[0m\\x1b[1;33m)\\x1b[0m\\x1b[1;33m)\\x1b[0m\\x1b[1;33m/\\x1b[0m\\x1b[1;33m(\\x1b[0m\\x1b[0mcr\\x1b[0m\\x1b[1;33m**\\x1b[0m\\x1b[0mcc\\x1b[0m\\x1b[1;33m)\\x1b[0m\\x1b[1;33m)\\x1b[0m\\x1b[1;33m*\\x1b[0m\\x1b[1;33m(\\x1b[0m\\x1b[0mch\\x1b[0m\\x1b[1;33m**\\x1b[0m\\x1b[0mcc\\x1b[0m\\x1b[1;33m)\\x1b[0m \\x1b[1;33m-\\x1b[0m \\x1b[0mch\\x1b[0m \\x1b[1;33m+\\x1b[0m \\x1b[0mzt\\x1b[0m\\x1b[1;33m)\\x1b[0m\\x1b[1;33m**\\x1b[0m\\x1b[1;33m(\\x1b[0m\\x1b[1;36m1\\x1b[0m\\x1b[1;33m/\\x1b[0m\\x1b[0mcc\\x1b[0m\\x1b[1;33m)\\x1b[0m \\x1b[1;33m+\\x1b[0m \\x1b[0mbh\\x1b[0m\\x1b[1;33m\\x1b[0m\\x1b[0m\\n\\x1b[0;32m     16\\x1b[0m \\x1b[1;33m\\x1b[0m\\x1b[0m\\n\\x1b[1;32m---> 17\\x1b[1;33m     \\x1b[0mp3\\x1b[0m\\x1b[1;33m.\\x1b[0m\\x1b[0mclear\\x1b[0m\\x1b[1;33m(\\x1b[0m\\x1b[1;33m)\\x1b[0m \\x1b[1;31m# there seems to be a failure to clear the previous values from display\\x1b[0m\\x1b[1;33m\\x1b[0m\\x1b[0m\\n\\x1b[0m\\x1b[0;32m     18\\x1b[0m \\x1b[1;33m\\x1b[0m\\x1b[0m\\n\\x1b[0;32m     19\\x1b[0m     \\x1b[1;31m# by default, ipyvolume shows Y-axis as up-down, and this can't apparently be modified\\x1b[0m\\x1b[1;33m\\x1b[0m\\x1b[1;33m\\x1b[0m\\x1b[0m\\n\", \"\\x1b[1;31mNameError\\x1b[0m: name 'p3' is not defined\"]},))"
      ]
     },
     "metadata": {},
     "output_type": "display_data"
    }
   ],
   "source": [
    "display(ui, output)"
   ]
  },
  {
   "cell_type": "markdown",
   "metadata": {},
   "source": [
    "## Changes from storyboard through to implementation\n",
    "It became apparent that allowing the user to change the tree's height did not seem to offer much of a difference in the visualization. The key parameters that seemed more important to visualize were the crown height (as ratio of total tree height), the width of the crown (as crown radius), and the curvature of the crown.\n",
    "\n",
    "The visulization itself is still a bit jerkier than I would've liked. The `ipyvolume` library seems to be a work in progress. For example, I was unable to directly control the orientation of the axes in the 3D plot, so resorted to switching my Y and Z variables to have the crown be displayed top-up in the plot.\n",
    "\n",
    "This interactive graphic took about 6-8 hours to complete, as this was the first time I had ever worked with `ipyvolume` or `ipywidgets`. Learning to use these packages and trouble-shooting the visualization took the most time. I spent a few hours just fiddling with different ways to try and refresh the display and scale the axes to try to make changes more apparent. \n",
    "\n",
    "This was also my first experience using [Binder](https://mybinder.org/) to share a Jupyter Notebook so that others could execute it without having to download any software. In the future, mocking up an interactive visualization like this would probably take more like 1-2 hours. "
   ]
  }
 ],
 "metadata": {
  "kernelspec": {
   "display_name": "Python [default]",
   "language": "python",
   "name": "python3"
  },
  "language_info": {
   "codemirror_mode": {
    "name": "ipython",
    "version": 3
   },
   "file_extension": ".py",
   "mimetype": "text/x-python",
   "name": "python",
   "nbconvert_exporter": "python",
   "pygments_lexer": "ipython3",
   "version": "3.6.4"
  }
 },
 "nbformat": 4,
 "nbformat_minor": 2
}
