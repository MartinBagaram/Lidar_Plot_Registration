{
 "cells": [
  {
   "cell_type": "markdown",
   "metadata": {},
   "source": [
    "This code (when complete) will stochastically simulate canopy surfaces for trees observed within a US Forest Service Forest Inventory & Analysis (FIA) plot."
   ]
  },
  {
   "cell_type": "markdown",
   "metadata": {},
   "source": [
    "## FIA Plot Layout\n",
    "<img src='./images/Measurements_Plot500.jpg' width='400' align='left'>"
   ]
  },
  {
   "cell_type": "markdown",
   "metadata": {},
   "source": [
    "## 1. Location of subplot 1\n",
    "The center of FIA subplot 1 is calculated from GPS measurements in the field, projected to a UTM coordinate system with X,Y location calculated and assumed to include normally-distributed measurement error in both X and Y directions.\n",
    "\n",
    "$ X_{plot}[1] \\sim N(obs_x, \\sigma_{GPS}) $\n",
    "\n",
    "$ Y_{plot}[1] \\sim N(obs_y, \\sigma_{GPS}) $"
   ]
  },
  {
   "cell_type": "code",
   "execution_count": null,
   "metadata": {},
   "outputs": [],
   "source": [
    "## TO DO\n",
    "# calculate plot location with random error"
   ]
  },
  {
   "cell_type": "markdown",
   "metadata": {},
   "source": [
    "## 2. Location of other subplots derived from subplot 1\n",
    "The centers of FIA subplots 2, 3, and 4 are calculated using a fixed bearing (or azimuth) and a distance of 120 ft from the center of subplot 1. Both the bearing/azimuth and the distance from the center of subplot 1 are assumed to have normally-distributed measurement error.\n",
    "\n",
    "#### Prior Distributions\n",
    "For each additional subplot, $i$, where $i \\in \\{2, 3, 4\\}$...\n",
    "\n",
    "The distance of each plot from subplot 1, as well as the bearings of these subplots from subplot are modeled as: \n",
    "\n",
    "$d_{plot}[i] \\sim N(120, \\sigma_{dist})$\n",
    "\n",
    "$\\theta_{plot}[2] \\sim N(\\frac{\\pi}{2}, \\sigma_{compass})$\n",
    "\n",
    "$\\theta_{plot}[3] \\sim N(\\frac{11\\pi}{6},\\sigma_{compass})$\n",
    "\n",
    "$\\theta_{plot}[4] \\sim N(\\frac{7\\pi}{6}, \\sigma_{compass})$\n",
    "\n",
    "#### Calculations\n",
    "The locations of subplots 2, 3, and 4 can thus be calculated as:\n",
    "\n",
    "$X_{plot}[i] = X_{plot}[1] + d_{plot}[i]\\cdot cos(\\theta_{plot}[i])$\n",
    "\n",
    "$Y_{plot}[i] = Y_{plot}[1] + d_{plot}[i]\\cdot sin(\\theta_{plot}[i])$"
   ]
  },
  {
   "cell_type": "code",
   "execution_count": null,
   "metadata": {},
   "outputs": [],
   "source": [
    "## TO DO\n",
    "# calculate subplot locations with random error"
   ]
  },
  {
   "cell_type": "markdown",
   "metadata": {},
   "source": [
    "## 3. Location of tree stems within a subplot\n",
    "Within each FIA subplot, the coordinates of each tree are calculated from the center of that subplot. The location of each tree, $j$, is recorded in the field using an azimuth ($az_{tree,obs}[j]$) and distance ($d_{tree,obs}[j]$) from the subplot center. \n",
    "\n",
    "We will convert from the field-recorded azimuth (bearing in degrees from North) to radians and re-orient to the Cartesian coordinate system: \n",
    "\n",
    "$\\theta_{tree,obs} = \\frac{(90- az_{tree}[j])}{2\\pi}$\n",
    "\n",
    "#### Prior Distributions\n",
    "Both the bearing and the distance of a tree from subplot center are assumed to have normally-distributed measurement error: \n",
    "\n",
    "$\\theta_{tree}[j] \\sim N(\\theta_{tree,obs}[j],\\sigma_{compass})$\n",
    "\n",
    "$d_{tree}[j] \\sim N(d_{tree,obs}[j], \\sigma_{dist})$ \n",
    "\n",
    "The re-use of $\\sigma_{dist}$ assumes the error in measuring distance between plots is the same as the error in measuring distance to trees from a subplot center.\n",
    "\n",
    "#### Calculations\n",
    "The (X,Y) coordinates of the stem locations in a subplot are made as:\n",
    "\n",
    "$X_{tree}[j] = X_{plot}[i] + d_{tree}[j] \\cdot cos(\\theta_{tree}[j])$\n",
    "\n",
    "$Y_{tree}[j] = Y_{plot}[i] + d_{tree}[j] \\cdot sin(\\theta_{tree}[j])$\n",
    "\n",
    "The elevation of the tree stem at ground level will be calculated based on the elevation of a lidar-derived DEM at that (X,Y) location.\n",
    "\n",
    "$Z_{tree}[j] = DEM[X_{tree}[j], Y_{tree}[j]]$"
   ]
  },
  {
   "cell_type": "code",
   "execution_count": null,
   "metadata": {},
   "outputs": [],
   "source": [
    "# convert to cartesian coordinates and convert field-recorded azimuth to radians\n",
    "theta_tree[j] = np.deg2rad(90 - az_tree[j])"
   ]
  },
  {
   "cell_type": "markdown",
   "metadata": {},
   "source": [
    "## 4. Location of tree tops within a subplot\n",
    "The location of a tree top is calculated using the field-measured height, which may be offset in the X,Y directions from the location of the stem based on tree lean. The Z value of the tree top (height above ground) is * **not** * calculated above the DEM at the location of the * **tree top's** * X,Y coordinates. Rather, the Z value of a tree top (top height) is calculated based on observed tree height (with error) plus the elevation of the DEM at the X,Y location of the * **tree stem** *. Envision a right triangle with the height as the vertical side of triangle, and the hypotenuse is a particular angle (lean) from the vertical height measurement.\n",
    "\n",
    "#### Prior Distributions\n",
    "Field-measured height ($height_{tree,obs}[j]$) will be modeled with normally-distributed measurement error. The direction of tree lean ($\\phi_{lean}[j]$) is uniformly distributed across all possible bearings, i.e., equally as likely to point in any compass direction. The severity of lean ($\\theta_{lean}[j]$), which reflects the divergence of the main tree stem from vertical, will be modeled using an exponential distribution (e.g., 90% of trees lean <10 degrees from vertical):\n",
    "\n",
    "$height_{tree}[j] \\sim N(height_{tree,obs}[j], \\sigma_{height})$\n",
    "\n",
    "$\\phi_{lean}[j] \\sim U[0,2\\pi)$\n",
    "\n",
    "$\\theta_{lean}[j] \\sim Exp(\\lambda)$\n",
    "\n",
    "#### Calculations\n",
    "The horizontal offset of the treetop from the base of the tree stem is calculated and decomposed into X and Y components as:\n",
    "\n",
    "$offset = tan(\\phi_{lean}[j]) \\cdot height_{tree}[j]$\n",
    "\n",
    "$offset_X = offset \\cdot cos(\\theta_{lean}[j])$\n",
    "\n",
    "$offset_Y = offset \\cdot sin(\\theta_{lean}[j])$\n",
    "\n",
    "The X, Y, Z coordinates of each tree top can thus be calculated as:\n",
    "\n",
    "$X_{treetop}[j] = X_{tree}[j] + tan(\\phi_{lean}[j]) \\cdot height_{tree}[j] \\cdot cos(\\theta_{lean}[j])$\n",
    "\n",
    "$Y_{treetop}[j] = Y_{tree}[j] + tan(\\phi_{lean}[j]) \\cdot height_{tree}[j] \\cdot sin(\\theta_{lean}[j])$\n",
    "\n",
    "$Z_{treetop}[j] = Z_{tree}[j] + height_{tree}[j]$"
   ]
  },
  {
   "cell_type": "code",
   "execution_count": null,
   "metadata": {},
   "outputs": [],
   "source": [
    "# TODO \n",
    "# implement"
   ]
  },
  {
   "cell_type": "markdown",
   "metadata": {},
   "source": [
    "## 4. Modeling an idealized canopy surface\n",
    "A flexible geometric form, a generalized ellipsoid is used to approximate the three-dimensional crown surface of each tree. A two-dimensional ellipsoid for modeling crowns was originally proposed by Horn (1971):\n",
    "\n",
    "$\\frac{x^E}{a^E}+\\frac{y^E}{b^E}=1$\n",
    "\n",
    "A three-dimensional variant has been attributed to Pollock (1996), which is reproduced here. A similar model was also described by Koop (1989).\n",
    "\n",
    "$\\frac{x^E}{a^E}+\\frac{y^E}{b^E}=1$\n",
    "\n",
    "In this model, $a$ describes the horizontal distance between the crown edge and the crown apex, and $b$ describes the height from the crown edge at its widest point to the crown apex.\n",
    "\n",
    "The figure below was produced by Sheng et al. (2001) refers to this form as the Pollock model:\n",
    "\n",
    "<img src='./images/Sheng et al 2001_Figure1.PNG' width='400' align='left'>\n",
    "\n"
   ]
  },
  {
   "cell_type": "markdown",
   "metadata": {},
   "source": [
    "### Incorporating asymmetry into the crown model\n",
    "\n",
    "Cescatti (1997) elaborates on the model originally proposed by Horn (1971) and developed by Koop (1989), describing an asymmetric hull crown model in three dimensions, based on 4 crown radii measured in two orthogonal directions, the location of the tree top, and the location of the stem at the bottom of the live crown. This results in a set of eight profiles, four for the upper crown from each measured crown radius on the 'peripheral line' to the tree top, and four for the lower crown from each crown radius on the 'peripheral line' to the stem at the bottom of the live crown.\n",
    "\n",
    "<img src='./images/Cescatti 1997_Figure1.PNG' width='400' align='left'><img src='./images/Cescatti 1997_Figure3.PNG' width='250' align='left'>\n",
    "\n",
    "\n"
   ]
  },
  {
   "cell_type": "markdown",
   "metadata": {},
   "source": [
    "### Allowing neighborhood competition to influence crown asymmetry\n",
    "Following Seidel et al. (2011), a modifier of crown symmetry may be incorporated based on the competitive influence of neighboring trees. A competition vector is formed for each tree, where the magnitude of the competition vector for each neighboring tree is its diameter at breast height divided by the square root of the distance between the two trees. The sum of these vectors represents the sum of all competitive pressure of the neighbors on the focal tree."
   ]
  }
 ],
 "metadata": {
  "kernelspec": {
   "display_name": "Python [conda env:Py3.5]",
   "language": "python",
   "name": "conda-env-Py3.5-py"
  },
  "language_info": {
   "codemirror_mode": {
    "name": "ipython",
    "version": 3
   },
   "file_extension": ".py",
   "mimetype": "text/x-python",
   "name": "python",
   "nbconvert_exporter": "python",
   "pygments_lexer": "ipython3",
   "version": "3.5.3"
  }
 },
 "nbformat": 4,
 "nbformat_minor": 2
}
