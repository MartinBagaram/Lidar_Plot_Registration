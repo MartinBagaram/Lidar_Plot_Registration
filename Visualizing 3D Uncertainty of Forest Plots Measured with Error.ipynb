{
 "cells": [
  {
   "cell_type": "markdown",
   "metadata": {},
   "source": [
    "# Visualizing 3D Uncertainty of Forest Plots Measured with Error\n",
    "David Diaz <br>\n",
    "## Objective\n",
    "A variety of geometric forms can be used to approximate the 3D shape of trees and forests. However, our knowledge of the locations and shapes of trees and crowns, even in intensively-measured forest inventory plots, is usually spatially imprecise relative to remotely-sensed data such as lidar point clouds or high-resolution imagery that are becoming increasingly available. \n",
    "Using a probabilistic programming approach, I will incrementally build a data generation model that can be used to stochastically simulate the locations and shapes of trees from an actual forest inventory plot that incorporates prior knowledge of common tree forms and expected levels of measurement error in field observations.\n",
    "Each major step in composing the data generation model will be accompanied with an interactive visualization allowing the viewer to adjust the parameters of each stage in the model see how it affects a 3D representation of a tree or a forest inventory plot. \n",
    "The model-building process will culminate with a 3D scene in which the surfaces of trees on a forest inventory plot are animated by sampling the probability distributions of all the parameters that go into the data-generating model. \n",
    "## Motivation\n",
    "The confident co-registration of remotely-sensed data and ground-based forest observations presents a distinct hurdle to fully leveraging the exceptionally high resolution of modern remote sensing technologies for precise predictive modeling of forest conditions across large landscapes where the remotely-sensed data have been collected. Misalignment between field-based plots and remotely-sensed data introduce error into predictive models trained to classify or quantify forest conditions. These imputation models are built to use remotely-sensed data using field plots as training examples, and applied to generate wall-to-wall forest inventory maps that “fill in the gaps” between forest plots on the ground using remotely-sensed data. Efforts to more precisely and accurately co-register field plots with remotely sensed data can thus help reduce the error introduced into this predictive modeling approach and increase the precision with which a predictive model may be able to distinguish varying forest conditions across the landscape.\n",
    "## Future Development/Application\n",
    "The stochastic model generated in this notebook is intended for future application in a Bayesian inverse modeling approach. This stochastic model is intended to reflect prior beliefs about the most likely locations of measured trees before remotely-sensed data has been seen. These priors, defined using probability distributions, will then be combined with remotely-sensed data such as a lidar point cloud using a Bayesian approach to identify the most likely location of a forest inventory plot which minimizes the divergence between modeled and observed (i.e., remotely-sensed) forest surfaces."
   ]
  }
 ],
 "metadata": {
  "kernelspec": {
   "display_name": "Python 3",
   "language": "python",
   "name": "python3"
  },
  "language_info": {
   "codemirror_mode": {
    "name": "ipython",
    "version": 3
   },
   "file_extension": ".py",
   "mimetype": "text/x-python",
   "name": "python",
   "nbconvert_exporter": "python",
   "pygments_lexer": "ipython3",
   "version": "3.6.5"
  }
 },
 "nbformat": 4,
 "nbformat_minor": 2
}
